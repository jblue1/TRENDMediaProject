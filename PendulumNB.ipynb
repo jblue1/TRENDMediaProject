{
 "cells": [
  {
   "cell_type": "markdown",
   "metadata": {},
   "source": [
    "# Pendulum Dynamics and Chaos\n",
    "by John Blue, working with Dr. Daniel Lathrop "
   ]
  },
  {
   "cell_type": "markdown",
   "metadata": {},
   "source": [
    "## Overview\n",
    "This notebook will walk readers through some important concept in mechanics and non-linear dynamics. Using animations, we will use the example of a pendulum with a pivot moving periodically up and down to explain concepts like phase space, bifurcations and chaos. The only pre-requisite for understanding this notebook is familiarity with angles and angular velocity, however a high school class in physics wouldn't hurt. "
   ]
  },
  {
   "cell_type": "markdown",
   "metadata": {},
   "source": [
    "## A Brief Background on Pendula\n",
    "The study of the simple pendulum traces its origins back to Galileo, who was the first to observe that the time it took for a pendulum to swing from its original position and back again (referred to as the pendulum's \"period\") was independent of its starting position. While this observation turned out to be only approximately true, the approximation is so good that scientists in the seventeenth, eighteenth and nineteenth century used pendula to determine the strength of the earth's gravity at various locations around the globe, and even calculate the shape of the earth (which is slightly distorted from a true sphere). Today, the simple pendulum is a staple of introductory physics courses where it is used as a simple example of \"oscillatory motion\", that is, motion that repeats over and over again as time progresses. The simplicity of the motion - the pendulum either swings steadily back and forth, or, if it is given a big enough push, rotates steadily in full circles<sup>*</sup> - makes it a good topic for introductory physics classes, but once we've covered those two kinds of motion, there is not much more to see. However, with a simple adjustment of this system, for instance, moving the pivot up and down, we can get all kinds of interesting behavior, including bifurcations, new points of stability, and even chaotic motion. Don't worry if you don't know what those terms mean now, we'll explain each of them over the course of this notebook. \n",
    "\n",
    "\n",
    "<sup>*</sup> This is a bit of an oversimplification as there is technically a third kind of motion where the pendulum stops exactly at its straight up position, but this is more or less impossible  to realize physically. "
   ]
  },
  {
   "cell_type": "markdown",
   "metadata": {},
   "source": [
    "## Phase Space"
   ]
  },
  {
   "cell_type": "markdown",
   "metadata": {},
   "source": [
    "Before getting into our new system, we still need to discuss a few things about the simple pendulum. First let's take a look at a diagram of a pendulum.\n",
    "\n",
    "<img src=\"./Images/Pendulum_Diagram.png\" alt='Pend' width=\"250\">\n",
    "\n",
    "An ideal pendulum consists of a bob of mass $m$, and an arm of length $L$ attached to a fixed point called the pivot. While the pivot is fixed, the bob is free to swing back and forth, always remaining a distance $L$ from the pivot. We keep track of the position of the bob using the angle the arm makes with the vertical (the dashed line in the diagram), which we will call $\\theta$. When $\\theta = 0$, this means the pendulum is hanging straight down. If $\\theta$ is negative, this means the bob is to the left of the vertical, while a positive $\\theta$ means the bob is to the right of the vertical, as seen in the diagram. \n",
    "\n",
    "Knowing just the position of bob doesn't tell us everything we need to know about the pendulum however - we also want to know what's called the angular velocity. Similarly to how normal velocity is how fast the position of an object is changing (if you know/remember calculus, this means velocity is the time derivative of position), angular velocity simply refers to how fast $\\theta$ is changing (that is, it is the time derivative of $\\theta$). Physicists typically denote the angular velocity $\\dot{\\theta}$ (spoken as \"theta dot\") and so will we for the rest of the notebook. Knowing $\\dot{\\theta}$ is useful, because if we know both the angle and angular velocity of the pendulum at some point it time, we can calculate where it will be at any point in the future.\n",
    "\n",
    "The most obvious way to look at the motion of a pendulum is with its actual position in space, as seen in the animation below. We can then make a graph of this motion with time on the horizontal axis and $\\theta$ on the vertical axis. We can get from useful information from this graph. For instance, we can determine the amplitude, which is the difference from the maximum $\\theta$ value to the minimum $\\theta$ value. We can also see the \"frequency\" of the motion, denoted $f$, which is the number of peaks that occur in one second. One more important quantity is the \"period\" of the motion, denoted $T$, which is the time between consecutive peaks in the graph. Frequency and period are related by the simple formula $f = 1/T$.\n"
   ]
  },
  {
   "cell_type": "markdown",
   "metadata": {},
   "source": [
    "<video width=\"800\" loop controls source src=\"angles.mp4\" type=\"video/mp4\"> </video>"
   ]
  },
  {
   "cell_type": "markdown",
   "metadata": {},
   "source": [
    "However, looking just at this graph it's hard to tell what $\\dot{\\theta}$ is, and for more complicated motion as we will see in a little bit, it can be quite difficult to determine the period and frequency as well. To rectify this, mathematicians and physicists use a plot of what they call \"phase space\", where $\\theta$ is on the horizontal axis and $\\dot{\\theta}$ on the vertical axis. When the pendulum swings back and forth, it makes a nice circle in phase space. This circle is called the \"phase space trajectory\". Note that the trajectory hits the same point every $2\\pi$ seconds (shown by the purple circles), this lets us see that the motion has period $2\\pi$ and frequency $f = 1/(2\\pi)$. \n"
   ]
  },
  {
   "cell_type": "markdown",
   "metadata": {},
   "source": [
    "<video width=\"400\" loop controls source src=\"PhaseSpaceSimple.mp4\" type=\"video/mp4\"> </video>"
   ]
  },
  {
   "cell_type": "markdown",
   "metadata": {},
   "source": [
    "Finally, we'll note that the motion you see above isn't very realistic, as in real life, frictional forces would cause the pendulum to slow down over time, eventually coming to rest at $\\theta=0$. You can see a more accurate phase space trajectory of a pendulum with drag included below. "
   ]
  },
  {
   "cell_type": "markdown",
   "metadata": {},
   "source": [
    "<video width=\"400\" loop controls source src=\"PhaseSpaceFriction.mp4\" type=\"video/mp4\"> </video>"
   ]
  },
  {
   "cell_type": "markdown",
   "metadata": {},
   "source": [
    "## Moving the pivot\n",
    "We're now finally ready to start looking at what happens when we move the pivot up and down. Note that we are moving the pivot in a oscillatory fashion, and so it has its own amplitude, period and frequency. To distinguish between the pivot and the pendulum, we will use the terms \"driving frequency,\" \"driving period\" and \"driving amplitude\" to refer to the frequency, period, and amplitude of the pivot. We're going to look at what happens as we increase the driving amplitude for two different driving frequencies, one low and one high. "
   ]
  },
  {
   "cell_type": "markdown",
   "metadata": {},
   "source": [
    "### Low driving frequencies\n",
    "We'll first look at what happens with a low driving frequency - we'll pick $1/\\pi \\approx 0.32\\text{Hz}$. In the animation below, you can see the pendulum with three different driving amplitudes. Note that for the two small driving amplitudes, the motion dies out, however once the driving amplitude is larger than roughly 0.98, you start to see stable oscillations. "
   ]
  },
  {
   "cell_type": "markdown",
   "metadata": {},
   "source": [
    "<video loop controls source src=\"steadymotion.mp4\" type=\"video/mp4\"> </video>"
   ]
  },
  {
   "cell_type": "markdown",
   "metadata": {},
   "source": [
    "If we increase the driving amplitude even more, the pendulum will start to complete full rotations. The animation below is of the phase space of a pendulum with a driving amplitude of 3.65, after it has settled down into stable rotations. Note that the pendulum reaches the same place in phase space every $\\pi$ seconds, indicating that the period is $\\pi s$. "
   ]
  },
  {
   "cell_type": "markdown",
   "metadata": {},
   "source": [
    "<video width=\"400\" loop controls source src=\"period1.mp4\" type=\"video/mp4\"> </video>"
   ]
  },
  {
   "cell_type": "markdown",
   "metadata": {},
   "source": [
    "Now, the animation below is showing a driving amplitude of $3.9$. Note that there are now two points marked in phase space. This means the period of the motion is now twice what it was before. "
   ]
  },
  {
   "cell_type": "markdown",
   "metadata": {},
   "source": [
    "<video width=\"400\" loop controls source src=\"period2.mp4\" type=\"video/mp4\"> </video>"
   ]
  },
  {
   "cell_type": "markdown",
   "metadata": {},
   "source": [
    "Interestingly enough, there was no gradual change from the original period to this new, twice as long period. When the driving amplitude was less than roughly $3.88$, the period was $\\pi$, and when the driving amplitude became greater than $3.88$, the period doubled. This sharp change in behavior as a parameter was changed can be seen in many other systems besides our pendulum and is called a \"bifurcation.\" This particular change is aptly named a \"period doubling bifurcation,\" and for our pendulum, there are period doubling bifurcations at driving amplitudes of roughly $3.88$, $4.86$, $5.04$, and so on, doubling the period each time, until about roughly a driving amplitude of $5.09$. At this special value, the motion becomes what is called \"chaotic\". When you think of chaos, you might think of complex, seemingly random motion, but chaotic motion is completely deterministic. What separates chaos from non-chaos is what's called \"sensitivity to initial conditions,\" which we've demonstrated in the animation below. Here, we have a driving amplitude of $5.15$, and there are two pendula starting at angles only $0.001$ degrees away from each other. For normal systems, this would mean that they would have similar motion. However, as seen in the animation the two pendula eventually completely diverge from each other.   "
   ]
  },
  {
   "cell_type": "markdown",
   "metadata": {},
   "source": [
    "<video width=\"400\" loop controls source src=\"chaos.mp4\" type=\"video/mp4\"> </video>"
   ]
  },
  {
   "cell_type": "markdown",
   "metadata": {},
   "source": [
    "### High driving frequencies\n",
    "Before diving into what happens at high driving frequencies, lets revisit the simple pendulum (with friction) to talk about stable and unstable points. First, think about what happens when the pendulum is initially set at $\\theta=0$. Since the force of gravity is pulling the bob straight down, there is no motion side to side, and the pendulum sits still. If we nudge the bob slightly left or right, it will settle back down to the $\\theta=0$ position. This is what's called a \"stable equilibrium.\" If we instead consider $\\theta = 180^{\\circ} = \\pi \\text{ rad}$, this is an equilibrium position as well. If we set the pendulum to point exactly straight up, it will sit there indefinitely. However, if we nudge it slightly one way or the other, it will be pulled by gravity back down to $\\theta=0$ as you can see below. "
   ]
  },
  {
   "cell_type": "markdown",
   "metadata": {},
   "source": [
    "<video width=\"400\" loop controls source src=\"FallingOver.mp4\" type=\"video/mp4\"> </video>"
   ]
  },
  {
   "cell_type": "markdown",
   "metadata": {},
   "source": [
    "When we oscillate the pivot up and down at low frequencies, the $\\theta=0$ point can cease being a stable equilibrium, as we saw in the animations of pendula with three different driving frequencies above. However, no matter what the driving amplitude is, the $\\theta = 180^{\\circ}$ will always remain unstable. This is not true for larger driving frequencies. In the animation below, the driving frequency is 45 times as large as in the low frequency animations, and we can see that the straight up position is now stable. "
   ]
  },
  {
   "cell_type": "markdown",
   "metadata": {},
   "source": [
    "<video width=\"400\" loop controls source src=\"stability.mp4\" type=\"video/mp4\"> </video>"
   ]
  },
  {
   "cell_type": "markdown",
   "metadata": {},
   "source": [
    "Finally, chaotic motion can occur with high driving frequencies as well. In this last animation, there are two pendula starting at angles only $0.001$ degrees away from each other, and a driving amplitude of $5$. Again, you can see that the motion of the two pendula completely diverges (also note that this animation has been slowed down pretty significantly to let you see what's going on). "
   ]
  },
  {
   "cell_type": "markdown",
   "metadata": {},
   "source": [
    "<video width=\"400\" loop controls source src=\"chaos2.mp4\" type=\"video/mp4\"> </video>"
   ]
  },
  {
   "cell_type": "markdown",
   "metadata": {},
   "source": [
    "## Why does this matter? \n",
    "Hopefully by now you have some understanding of phase space and why its useful, what a bifurcation is, and what separates chaotic motion from non-chaotic motion. While a simple pendulum might not seem like the most exciting system in the world, we hope that you can appreciate the wide variety of motion it produces when we do something as small as move the pivot up and down. These concepts are also in no way limited to this particular system, and the ideas discussed in this notebook have applications in fields as diverse as engineering, economics, and meteorology. For those interested in learning further, these two videos explore and expand on many of the topics discussed in this notebook:\n",
    "- [This equation will change how you see the world (the logistic map)](https://www.youtube.com/watch?v=ovJcsL7vyrk)\n",
    "- [The Science Behind the Butterfly Effect](https://www.youtube.com/watch?v=fDek6cYijxI)\n",
    "\n",
    "If you would like to see the code that produces the animation, you can see that [here](https://github.com/jblue1/TRENDMediaProject/blob/master/Animations.ipynb)"
   ]
  },
  {
   "cell_type": "code",
   "execution_count": null,
   "metadata": {},
   "outputs": [],
   "source": []
  }
 ],
 "metadata": {
  "kernelspec": {
   "display_name": "Python 3",
   "language": "python",
   "name": "python3"
  },
  "language_info": {
   "codemirror_mode": {
    "name": "ipython",
    "version": 3
   },
   "file_extension": ".py",
   "mimetype": "text/x-python",
   "name": "python",
   "nbconvert_exporter": "python",
   "pygments_lexer": "ipython3",
   "version": "3.7.7"
  }
 },
 "nbformat": 4,
 "nbformat_minor": 4
}
